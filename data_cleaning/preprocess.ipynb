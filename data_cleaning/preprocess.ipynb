{
 "cells": [
  {
   "cell_type": "code",
   "execution_count": 1,
   "metadata": {},
   "outputs": [
    {
     "name": "stderr",
     "output_type": "stream",
     "text": [
      "[nltk_data] Downloading package punkt_tab to C:\\Users\\Windows\n",
      "[nltk_data]     Home\\AppData\\Roaming\\nltk_data...\n",
      "[nltk_data]   Unzipping tokenizers\\punkt_tab.zip.\n",
      "[nltk_data] Downloading package punkt to C:\\Users\\Windows\n",
      "[nltk_data]     Home\\AppData\\Roaming\\nltk_data...\n",
      "[nltk_data]   Package punkt is already up-to-date!\n",
      "[nltk_data] Downloading package stopwords to C:\\Users\\Windows\n",
      "[nltk_data]     Home\\AppData\\Roaming\\nltk_data...\n",
      "[nltk_data]   Package stopwords is already up-to-date!\n",
      "[nltk_data] Downloading package wordnet to C:\\Users\\Windows\n",
      "[nltk_data]     Home\\AppData\\Roaming\\nltk_data...\n",
      "[nltk_data]   Package wordnet is already up-to-date!\n"
     ]
    },
    {
     "data": {
      "text/plain": [
       "True"
      ]
     },
     "execution_count": 1,
     "metadata": {},
     "output_type": "execute_result"
    }
   ],
   "source": [
    "import pandas as pd\n",
    "import nltk\n",
    "import tensorflow as tf\n",
    "from tensorflow.keras.preprocessing.text import Tokenizer\n",
    "from tensorflow.keras.preprocessing.sequence import pad_sequences\n",
    "from nltk.tokenize import word_tokenize\n",
    "from nltk.corpus import stopwords\n",
    "from nltk.stem import WordNetLemmatizer\n",
    "from nltk.stem.porter import PorterStemmer\n",
    "import re\n",
    "nltk.download('punkt_tab')\n",
    "nltk.download('punkt')\n",
    "nltk.download('stopwords')\n",
    "nltk.download('wordnet')"
   ]
  },
  {
   "cell_type": "code",
   "execution_count": 3,
   "metadata": {},
   "outputs": [],
   "source": [
    "dataset = pd.read_csv(\"../dataset/dataset10K.csv\")"
   ]
  },
  {
   "cell_type": "code",
   "execution_count": null,
   "metadata": {},
   "outputs": [
    {
     "data": {
      "text/html": [
       "<div>\n",
       "<style scoped>\n",
       "    .dataframe tbody tr th:only-of-type {\n",
       "        vertical-align: middle;\n",
       "    }\n",
       "\n",
       "    .dataframe tbody tr th {\n",
       "        vertical-align: top;\n",
       "    }\n",
       "\n",
       "    .dataframe thead th {\n",
       "        text-align: right;\n",
       "    }\n",
       "</style>\n",
       "<table border=\"1\" class=\"dataframe\">\n",
       "  <thead>\n",
       "    <tr style=\"text-align: right;\">\n",
       "      <th></th>\n",
       "      <th>Question</th>\n",
       "      <th>Answer</th>\n",
       "    </tr>\n",
       "  </thead>\n",
       "  <tbody>\n",
       "    <tr>\n",
       "      <th>0</th>\n",
       "      <td>\"Why does my sheep chew on random objects like...</td>\n",
       "      <td>Sheep sometimes chew on odd things due to bore...</td>\n",
       "    </tr>\n",
       "    <tr>\n",
       "      <th>1</th>\n",
       "      <td>Why does my bird pluck its feathers, and what ...</td>\n",
       "      <td>Feather plucking can happen due to stress, bor...</td>\n",
       "    </tr>\n",
       "    <tr>\n",
       "      <th>2</th>\n",
       "      <td>\"Why does my pig sometimes sneeze a lot, and s...</td>\n",
       "      <td>Pigs can sneeze due to dust, allergies, or mil...</td>\n",
       "    </tr>\n",
       "    <tr>\n",
       "      <th>3</th>\n",
       "      <td>\"Deer seems less active and is eating less—cou...</td>\n",
       "      <td>It could be the weather, especially if it's ho...</td>\n",
       "    </tr>\n",
       "    <tr>\n",
       "      <th>4</th>\n",
       "      <td>\"Why does Donkey sometimes chew on rocks, and ...</td>\n",
       "      <td>Chewing on rocks, called pica, can happen due ...</td>\n",
       "    </tr>\n",
       "    <tr>\n",
       "      <th>...</th>\n",
       "      <td>...</td>\n",
       "      <td>...</td>\n",
       "    </tr>\n",
       "    <tr>\n",
       "      <th>10006</th>\n",
       "      <td>\"Does the combination of drooping ears, listle...</td>\n",
       "      <td>Those symptoms could point to several issues, ...</td>\n",
       "    </tr>\n",
       "    <tr>\n",
       "      <th>10007</th>\n",
       "      <td>\"Considering the symptoms of death, epistaxis,...</td>\n",
       "      <td>These symptoms are very serious and could poin...</td>\n",
       "    </tr>\n",
       "    <tr>\n",
       "      <th>10008</th>\n",
       "      <td>\"Can a sudden loss of appetite and altered beh...</td>\n",
       "      <td>Yes, a sudden loss of appetite and behavior ch...</td>\n",
       "    </tr>\n",
       "    <tr>\n",
       "      <th>10009</th>\n",
       "      <td>\"At what point should I be concerned about the...</td>\n",
       "      <td>If your buffalo is showing signs like severe l...</td>\n",
       "    </tr>\n",
       "    <tr>\n",
       "      <th>10010</th>\n",
       "      <td>\"Which diagnostic tests are most effective for...</td>\n",
       "      <td>For your monkey's halitosis, a dental exam and...</td>\n",
       "    </tr>\n",
       "  </tbody>\n",
       "</table>\n",
       "<p>10011 rows × 2 columns</p>\n",
       "</div>"
      ],
      "text/plain": [
       "                                                Question  \\\n",
       "0      \"Why does my sheep chew on random objects like...   \n",
       "1      Why does my bird pluck its feathers, and what ...   \n",
       "2      \"Why does my pig sometimes sneeze a lot, and s...   \n",
       "3      \"Deer seems less active and is eating less—cou...   \n",
       "4      \"Why does Donkey sometimes chew on rocks, and ...   \n",
       "...                                                  ...   \n",
       "10006  \"Does the combination of drooping ears, listle...   \n",
       "10007  \"Considering the symptoms of death, epistaxis,...   \n",
       "10008  \"Can a sudden loss of appetite and altered beh...   \n",
       "10009  \"At what point should I be concerned about the...   \n",
       "10010  \"Which diagnostic tests are most effective for...   \n",
       "\n",
       "                                                  Answer  \n",
       "0      Sheep sometimes chew on odd things due to bore...  \n",
       "1      Feather plucking can happen due to stress, bor...  \n",
       "2      Pigs can sneeze due to dust, allergies, or mil...  \n",
       "3      It could be the weather, especially if it's ho...  \n",
       "4      Chewing on rocks, called pica, can happen due ...  \n",
       "...                                                  ...  \n",
       "10006  Those symptoms could point to several issues, ...  \n",
       "10007  These symptoms are very serious and could poin...  \n",
       "10008  Yes, a sudden loss of appetite and behavior ch...  \n",
       "10009  If your buffalo is showing signs like severe l...  \n",
       "10010  For your monkey's halitosis, a dental exam and...  \n",
       "\n",
       "[10011 rows x 2 columns]"
      ]
     },
     "metadata": {},
     "output_type": "display_data"
    }
   ],
   "source": [
    "#Show data table\n",
    "#movie_reviews.head()\n",
    "display(dataset)"
   ]
  },
  {
   "cell_type": "code",
   "execution_count": null,
   "metadata": {},
   "outputs": [
    {
     "data": {
      "text/plain": [
       "Question\n",
       "\"Why does my bird pluck its feathers, and how can I help it stop?\"                                                                                  2\n",
       "\"Why does my bird pluck its feathers, and how can I help stop it?\"                                                                                  2\n",
       "\"Should I be concerned about potential respiratory infections or environmental irritants causing these symptoms in my duck?\"                        2\n",
       "\"Pig’s been scratching a lot lately—could it be allergies or something in his food? What should I check for first?\"                                 1\n",
       "\"Why does my sheep chew on everything, and is it normal or should I worry about its diet?\"                                                          1\n",
       "                                                                                                                                                   ..\n",
       "\"Are there specific dietary changes or diagnostic tests you recommend to address my bird's weight loss and swollen lymph nodes?\"                    1\n",
       "\"Should I be concerned about the red tinge in my fowl's feathers or skin, and could it indicate an underlying health issue?\"                        1\n",
       "\"How can I determine if my buffalo's snoring and vomiting are linked to a respiratory issue or a digestive problem?\"                                1\n",
       "\"Has my bird’s diet or environment recently contributed to these symptoms, and what immediate steps can we take to address its health concerns?\"    1\n",
       "\"Deer seems less active and is eating less—could it be the weather, or should I be worried about something more serious?\"                           1\n",
       "Name: count, Length: 10008, dtype: int64"
      ]
     },
     "execution_count": 5,
     "metadata": {},
     "output_type": "execute_result"
    }
   ],
   "source": [
    "#Count Question column [value_counts()]\n",
    "dataset['Question'].value_counts()\n"
   ]
  },
  {
   "cell_type": "code",
   "execution_count": null,
   "metadata": {},
   "outputs": [
    {
     "data": {
      "text/plain": [
       "'\"Why does my sheep chew on random objects like rocks or fences? Is that normal or something to worry about?\"'"
      ]
     },
     "execution_count": 6,
     "metadata": {},
     "output_type": "execute_result"
    }
   ],
   "source": [
    "#Show Question raw data in row 1\n",
    "dataset['Question'].iloc[0]\n"
   ]
  },
  {
   "cell_type": "code",
   "execution_count": 7,
   "metadata": {},
   "outputs": [],
   "source": [
    "#Removes HTML tags: replaces anything between opening and closing <> with empty space\n",
    "TAG_RE = re.compile(r'<[^>]+>')\n",
    "\n",
    "def remove_tags(text):\n",
    "    return TAG_RE.sub('', text)"
   ]
  },
  {
   "cell_type": "code",
   "execution_count": 8,
   "metadata": {},
   "outputs": [
    {
     "data": {
      "text/plain": [
       "'\"Why does my sheep chew on random objects like rocks or fences? Is that normal or something to worry about?\"'"
      ]
     },
     "execution_count": 8,
     "metadata": {},
     "output_type": "execute_result"
    }
   ],
   "source": [
    "# Example usage:\n",
    "text_with_html = dataset[\"Question\"][0]\n",
    "text_without_html = remove_tags(text_with_html)\n",
    "text_without_html"
   ]
  },
  {
   "cell_type": "code",
   "execution_count": null,
   "metadata": {},
   "outputs": [],
   "source": [
    "def preprocess_text(sen):\n",
    "    sentence = sen.lower()\n",
    "\n",
    "    # Remove html tags\n",
    "    sentence = remove_tags(sentence)\n",
    "\n",
    "    # Remove punctuations and numbers\n",
    "    sentence = re.sub('[^a-zA-Z]', ' ', sentence)\n",
    "\n",
    "    # Single character removal\n",
    "    sentence = re.sub(r\"\\s+[a-zA-Z]\\s+\", ' ', sentence)\n",
    "\n",
    "    # Remove multiple spaces\n",
    "    sentence = re.sub(r'\\s+', ' ', sentence)\n",
    "\n",
    "    # Remove Stopwords\n",
    "    pattern = re.compile(r'\\b(' + r'|'.join(stopwords.words('english')) + r')\\b\\s*')\n",
    "    sentence = pattern.sub('', sentence)\n",
    "\n",
    "    # Tokenization\n",
    "    tokens = word_tokenize(sentence)\n",
    "\n",
    "    # Stemming\n",
    "    stemmer = PorterStemmer()\n",
    "    stemmed_words = [stemmer.stem(word) for word in tokens]\n",
    "\n",
    "    # Lemmatization\n",
    "    lemmatizer = WordNetLemmatizer()\n",
    "    lemmatized_words = [lemmatizer.lemmatize(word) for word in stemmed_words]\n",
    "\n",
    "    cleaned_sentence = ' '.join(lemmatized_words)  # Joining the words\n",
    "\n",
    "    return cleaned_sentence  # Return a list of tokens"
   ]
  },
  {
   "cell_type": "code",
   "execution_count": 32,
   "metadata": {},
   "outputs": [
    {
     "name": "stdout",
     "output_type": "stream",
     "text": [
      "                                             Question  \\\n",
      "0   sheep chew random object like rock fenc normal...   \n",
      "1                             bird pluck feather help   \n",
      "2                         pig sometim sneez lot worri   \n",
      "3   deer seem less activ eat less could weather wo...   \n",
      "4   donkey sometim chew rock could hurt teeth stomach   \n",
      "5   pig scratch lot late could allergi someth food...   \n",
      "6                sheep chew everyth normal worri diet   \n",
      "7   monkey seem less play eat less could mood chan...   \n",
      "8                          hors chew wood harm health   \n",
      "9   pig seem less activ eat much late could someth...   \n",
      "10  hi doc eleph seem less play eat much could str...   \n",
      "11  hi notic buffalo seem less energet eat much co...   \n",
      "12                     duck sometim sneez eat concern   \n",
      "13  sheep sometim scratch ear lot could someth ser...   \n",
      "14                       dog lion lick paw much worri   \n",
      "15      buffalo seem restless night help feel comfort   \n",
      "16                            fowl lose feather worri   \n",
      "17                            pig skin dri flaki help   \n",
      "18                        dog sometim eat grass worri   \n",
      "19  deepseek eleph sniffl sneez much late could so...   \n",
      "20  goat chew everyth even thing food curio someth...   \n",
      "21        buffalo seem tire usual eat much worri heat   \n",
      "22  hi doc eleph sneez lot late seem less play cou...   \n",
      "23      hi pig sneez lot seem less energet worri cold   \n",
      "24  hi chicken seem letharg eat much could wrong h...   \n",
      "25  normal sheep eat much grass could sign someth ...   \n",
      "26  piggi sometim snort loudli toss food around ex...   \n",
      "27                   bird fluff feather often concern   \n",
      "28  hi doc deer seem bit late eat much act sluggis...   \n",
      "29  hi eleph seem bit letharg eat much could weath...   \n",
      "30  sheep chew everyth normal could mean someth mi...   \n",
      "31  monkey seem less activ eat much could stress w...   \n",
      "32          fowl seem sleepi late adjust feed environ   \n",
      "33                           duck nibbl feather worri   \n",
      "34  bird pluck feather stress could someth el wron...   \n",
      "35  sheep sneez lot late seem bit could someth ser...   \n",
      "36            normal eleph eat less hot weather worri   \n",
      "37  buffalo seem eat much stay alon could weather ...   \n",
      "38              sheep rub ear much itch someth seriou   \n",
      "39      normal cat sleep much could sign someth wrong   \n",
      "40  hi doc dog fox scratch lot seem uncomfort coul...   \n",
      "41  hi doc pet deer seem eat less act tire late wo...   \n",
      "42  deer seem lost appetit eat much could stress s...   \n",
      "43    normal eleph flap ear lot could mean hot stress   \n",
      "44                        pig sometim sneez lot worri   \n",
      "45  dog breath sometim smell bad fix without vet v...   \n",
      "46                       goat chew random object harm   \n",
      "47                      fowl seem tire late help perk   \n",
      "48  buffalo seem restless eat much late weather co...   \n",
      "49  donkey sometim sneez lot especi play outsid worri   \n",
      "\n",
      "                                               Answer  \n",
      "0   sheep sometim chew odd thing due boredom miner...  \n",
      "1   feather pluck happen due stress boredom health...  \n",
      "2   pig sneez due dust allergi mild irrit environ ...  \n",
      "3   could weather especi hot cold deer often eat l...  \n",
      "4   chew rock call pica happen due boredom miner d...  \n",
      "5   could allergi even skin irrit first check flea...  \n",
      "6   sheep often chew thing curio boredom also indi...  \n",
      "7   could mood chang keep eye monkey reduc appetit...  \n",
      "8   wood chew hors happen due boredom lack fiber d...  \n",
      "9   could stress chang diet even mild ill check en...  \n",
      "10  hi eleph get stress especi routin chang check ...  \n",
      "11  hi could weather buffalo feel sluggish extrem ...  \n",
      "12  duck might sneez eat food particl irrit nose u...  \n",
      "13  sheep might scratch ear due dirt wax buildup e...  \n",
      "14  hi dog often lick paw clean sooth irrit could ...  \n",
      "15  buffalo feel restless night due discomfort str...  \n",
      "16  feather loss fowl due molt stress parasit molt...  \n",
      "17  dri flaki skin pig due poor diet lack moistur ...  \n",
      "18  dog often eat grass sooth upset stomach add fi...  \n",
      "19  eleph get sniffl like u might dust pollen mild...  \n",
      "20  goat natur curiou love explor mouth chew non f...  \n",
      "21  could heat keep eye buffalo make sure plenti w...  \n",
      "22  hi sound like eleph might mild cold allergi ke...  \n",
      "23  hi sneez low energi could mild cold especi pig...  \n",
      "24  hi lethargi loss appetit chicken caus stress p...  \n",
      "25  sheep natur graze lot main food sourc eat gras...  \n",
      "26  piggi might snort toss food excit play guinea ...  \n",
      "27  bird fluff feather stay warm relax usual norma...  \n",
      "28  hi chang weather definit affect deer sluggish ...  \n",
      "29  hi eleph feel sluggish hot weather make sure e...  \n",
      "30  sheep chew everyth normal especi bore explor c...  \n",
      "31  could stress especi recent chang monkey enviro...  \n",
      "32  hey fowl might sleepi due chang daylight stres...  \n",
      "33  duck often nibbl feather preen keep clean norm...  \n",
      "34  feather pluck due stress boredom even skin irr...  \n",
      "35  sneez sheep due dust allergi mild respiratori ...  \n",
      "36  ye pretti normal eleph eat less hot weather li...  \n",
      "37  weather chang affect pet buffalo behavior migh...  \n",
      "38  sheep might ear mite dirt infect check red odo...  \n",
      "39  cat sleep lot hour day normal cat eat play act...  \n",
      "40  hi fox scratch could due allergi flea dri skin...  \n",
      "41  hi could weather especi hot humid deer often e...  \n",
      "42  could stress especi chang environ check sign i...  \n",
      "43  ye eleph flap ear cool help regul bodi tempera...  \n",
      "44  sneez happen pig bit dust irrit nose usual not...  \n",
      "45  bad breath dog often caus dental issu like pla...  \n",
      "46  goat natur curiou love explor mouth chew rando...  \n",
      "47  fowl feel tire due stress poor diet lack stimu...  \n",
      "48  restless loss appetit buffalo due stress heat ...  \n",
      "49  donkey might sneez due dust pollen grass irrit...  \n"
     ]
    }
   ],
   "source": [
    "# Create a copy of the dataset\n",
    "dataset_processed = dataset.copy()\n",
    "\n",
    "# Apply preprocess_text to 'Question' column\n",
    "dataset_processed.loc[:10011, 'Question'] = dataset_processed.loc[:10011, 'Question'].apply(preprocess_text)\n",
    "\n",
    "# Apply a different preprocessing function to 'Answer' column if needed\n",
    "dataset_processed.loc[:10011, 'Answer'] = dataset_processed.loc[:10011, 'Answer'].apply(preprocess_text)\n",
    "\n",
    "# Display the first 50 rows after preprocessing\n",
    "print(dataset_processed[['Question', 'Answer']].head(50))\n"
   ]
  },
  {
   "cell_type": "code",
   "execution_count": null,
   "metadata": {},
   "outputs": [
    {
     "data": {
      "text/plain": [
       "'duck might sneez eat food particl irrit nose usual big deal keep eye frequent sneez symptom like discharg happen lot consid softer smaller food piec'"
      ]
     },
     "execution_count": 33,
     "metadata": {},
     "output_type": "execute_result"
    }
   ],
   "source": [
    "dataset_processed['Answer'][1]"
   ]
  },
  {
   "cell_type": "code",
   "execution_count": null,
   "metadata": {},
   "outputs": [
    {
     "data": {
      "text/plain": [
       "'duck sometim sneez eat concern'"
      ]
     },
     "execution_count": 34,
     "metadata": {},
     "output_type": "execute_result"
    }
   ],
   "source": [
    "dataset_processed['Question'][1]"
   ]
  },
  {
   "cell_type": "code",
   "execution_count": 35,
   "metadata": {},
   "outputs": [
    {
     "name": "stdout",
     "output_type": "stream",
     "text": [
      "Padded Sequences: [[ 12 149 449 ...   0   0   0]\n",
      " [ 32 495 108 ...   0   0   0]\n",
      " [ 24  83  85 ...   0   0   0]\n",
      " ...\n",
      " [124  26  37 ...   0   0   0]\n",
      " [369  97 363 ...   0   0   0]\n",
      " [196 232 327 ...   0   0   0]]\n"
     ]
    }
   ],
   "source": [
    "tokenizer = Tokenizer()\n",
    "tokenizer.fit_on_texts(dataset_processed['Question'])\n",
    "sequences = tokenizer.texts_to_sequences(dataset_processed['Question'])\n",
    "padded_sequences = pad_sequences(sequences, padding='post')\n",
    "print(\"Padded Sequences:\", padded_sequences)"
   ]
  },
  {
   "cell_type": "code",
   "execution_count": 36,
   "metadata": {},
   "outputs": [
    {
     "name": "stdout",
     "output_type": "stream",
     "text": [
      "{'question': 1, 'answer': 2}\n"
     ]
    }
   ],
   "source": [
    "# see tokenizer.word_index\n",
    "tokenizer = Tokenizer()\n",
    "tokenizer.fit_on_texts(dataset_processed)\n",
    "print(tokenizer.word_index)"
   ]
  },
  {
   "cell_type": "code",
   "execution_count": 37,
   "metadata": {},
   "outputs": [
    {
     "data": {
      "text/html": [
       "<div>\n",
       "<style scoped>\n",
       "    .dataframe tbody tr th:only-of-type {\n",
       "        vertical-align: middle;\n",
       "    }\n",
       "\n",
       "    .dataframe tbody tr th {\n",
       "        vertical-align: top;\n",
       "    }\n",
       "\n",
       "    .dataframe thead th {\n",
       "        text-align: right;\n",
       "    }\n",
       "</style>\n",
       "<table border=\"1\" class=\"dataframe\">\n",
       "  <thead>\n",
       "    <tr style=\"text-align: right;\">\n",
       "      <th></th>\n",
       "      <th>Question</th>\n",
       "      <th>Answer</th>\n",
       "    </tr>\n",
       "  </thead>\n",
       "  <tbody>\n",
       "    <tr>\n",
       "      <th>0</th>\n",
       "      <td>sheep chew random object like rock fenc normal...</td>\n",
       "      <td>sheep sometim chew odd thing due boredom miner...</td>\n",
       "    </tr>\n",
       "    <tr>\n",
       "      <th>1</th>\n",
       "      <td>bird pluck feather help</td>\n",
       "      <td>feather pluck happen due stress boredom health...</td>\n",
       "    </tr>\n",
       "    <tr>\n",
       "      <th>2</th>\n",
       "      <td>pig sometim sneez lot worri</td>\n",
       "      <td>pig sneez due dust allergi mild irrit environ ...</td>\n",
       "    </tr>\n",
       "    <tr>\n",
       "      <th>3</th>\n",
       "      <td>deer seem less activ eat less could weather wo...</td>\n",
       "      <td>could weather especi hot cold deer often eat l...</td>\n",
       "    </tr>\n",
       "    <tr>\n",
       "      <th>4</th>\n",
       "      <td>donkey sometim chew rock could hurt teeth stomach</td>\n",
       "      <td>chew rock call pica happen due boredom miner d...</td>\n",
       "    </tr>\n",
       "    <tr>\n",
       "      <th>...</th>\n",
       "      <td>...</td>\n",
       "      <td>...</td>\n",
       "    </tr>\n",
       "    <tr>\n",
       "      <th>10006</th>\n",
       "      <td>combin droop ear listless drool weight loss wh...</td>\n",
       "      <td>symptom could point sever issu like bacteri in...</td>\n",
       "    </tr>\n",
       "    <tr>\n",
       "      <th>10007</th>\n",
       "      <td>consid symptom death epistaxi hemoptysi buffal...</td>\n",
       "      <td>symptom seriou could point condit like hemorrh...</td>\n",
       "    </tr>\n",
       "    <tr>\n",
       "      <th>10008</th>\n",
       "      <td>sudden loss appetit alter behavior wolf indic ...</td>\n",
       "      <td>ye sudden loss appetit behavior chang wolf cou...</td>\n",
       "    </tr>\n",
       "    <tr>\n",
       "      <th>10009</th>\n",
       "      <td>point concern sever buffalo pain specif sign i...</td>\n",
       "      <td>buffalo show sign like sever limp refus eat co...</td>\n",
       "    </tr>\n",
       "    <tr>\n",
       "      <th>10010</th>\n",
       "      <td>diagnost test effect pinpoint underli caus mon...</td>\n",
       "      <td>monkey halitosi dental exam oral swab help ide...</td>\n",
       "    </tr>\n",
       "  </tbody>\n",
       "</table>\n",
       "<p>10011 rows × 2 columns</p>\n",
       "</div>"
      ],
      "text/plain": [
       "                                                Question  \\\n",
       "0      sheep chew random object like rock fenc normal...   \n",
       "1                                bird pluck feather help   \n",
       "2                            pig sometim sneez lot worri   \n",
       "3      deer seem less activ eat less could weather wo...   \n",
       "4      donkey sometim chew rock could hurt teeth stomach   \n",
       "...                                                  ...   \n",
       "10006  combin droop ear listless drool weight loss wh...   \n",
       "10007  consid symptom death epistaxi hemoptysi buffal...   \n",
       "10008  sudden loss appetit alter behavior wolf indic ...   \n",
       "10009  point concern sever buffalo pain specif sign i...   \n",
       "10010  diagnost test effect pinpoint underli caus mon...   \n",
       "\n",
       "                                                  Answer  \n",
       "0      sheep sometim chew odd thing due boredom miner...  \n",
       "1      feather pluck happen due stress boredom health...  \n",
       "2      pig sneez due dust allergi mild irrit environ ...  \n",
       "3      could weather especi hot cold deer often eat l...  \n",
       "4      chew rock call pica happen due boredom miner d...  \n",
       "...                                                  ...  \n",
       "10006  symptom could point sever issu like bacteri in...  \n",
       "10007  symptom seriou could point condit like hemorrh...  \n",
       "10008  ye sudden loss appetit behavior chang wolf cou...  \n",
       "10009  buffalo show sign like sever limp refus eat co...  \n",
       "10010  monkey halitosi dental exam oral swab help ide...  \n",
       "\n",
       "[10011 rows x 2 columns]"
      ]
     },
     "metadata": {},
     "output_type": "display_data"
    }
   ],
   "source": [
    "display(dataset_processed)"
   ]
  },
  {
   "cell_type": "code",
   "execution_count": 38,
   "metadata": {},
   "outputs": [
    {
     "name": "stdout",
     "output_type": "stream",
     "text": [
      "Training data size: 8008\n",
      "Test data size: 2003\n"
     ]
    }
   ],
   "source": [
    "from sklearn.model_selection import train_test_split\n",
    "\n",
    "# ใช้ 'Question' เป็นอินพุตและ 'Answer' เป็นเป้าหมาย\n",
    "X = dataset_processed['Question']\n",
    "y = dataset_processed['Answer']\n",
    "\n",
    "# แบ่งข้อมูลเป็นชุดเทรนและทดสอบ\n",
    "X_train, X_test, y_train, y_test = train_test_split(X, y, test_size=0.2, random_state=42)\n",
    "\n",
    "# แสดงขนาดของชุดข้อมูลที่แบ่ง\n",
    "print(\"Training data size:\", len(X_train))\n",
    "print(\"Test data size:\", len(X_test))\n"
   ]
  },
  {
   "cell_type": "code",
   "execution_count": 39,
   "metadata": {},
   "outputs": [
    {
     "data": {
      "text/plain": [
       "9090    would recommend specif diagnost test determin ...\n",
       "8294    could suggest simpl step keep eleph environ sa...\n",
       "9941    connect sheep ammonia like odor letharg behavi...\n",
       "1095    cat lethargi fever someth seriou could pas bug...\n",
       "3131    could buffalo feel sluggish use heat someth el...\n",
       "                              ...                        \n",
       "5734    dog lose weight worm diabet mayb someth el go ...\n",
       "5191         keep fowl comfort prevent skin thicken itchi\n",
       "5390    could caus buffalo lose weight babi buffalo su...\n",
       "860     deer seem less play eat less could someth wron...\n",
       "7270    could deer lack energi troubl urin relat get e...\n",
       "Name: Question, Length: 8008, dtype: object"
      ]
     },
     "execution_count": 39,
     "metadata": {},
     "output_type": "execute_result"
    }
   ],
   "source": [
    "X_train"
   ]
  },
  {
   "cell_type": "code",
   "execution_count": 40,
   "metadata": {},
   "outputs": [
    {
     "data": {
      "text/plain": [
       "9090    sheep abort fever blood test check infect like...\n",
       "8294    sure keep eleph space clean free obstacl preve...\n",
       "9941    ye ammonia like odor lethargi could point urin...\n",
       "1095    lethargi fever cat sign mild infect someth ser...\n",
       "3131    buffalo feel sluggish heat prefer cooler clima...\n",
       "                              ...                        \n",
       "5734    weight loss dog due worm diabet issu like poor...\n",
       "5191    make sure fowl clean dri coop good ventil prov...\n",
       "5390    buffalo might lose weight due poor nutrit para...\n",
       "860     could stress chang environ even mild ill keep ...\n",
       "7270    possibl lack exercis lead low energi troubl ur...\n",
       "Name: Answer, Length: 8008, dtype: object"
      ]
     },
     "execution_count": 40,
     "metadata": {},
     "output_type": "execute_result"
    }
   ],
   "source": [
    "y_train"
   ]
  },
  {
   "cell_type": "code",
   "execution_count": 41,
   "metadata": {},
   "outputs": [],
   "source": [
    "word_tokenizer = Tokenizer()\n",
    "word_tokenizer.fit_on_texts(X_train)\n",
    "\n",
    "X_train = word_tokenizer.texts_to_sequences(X_train)\n",
    "X_test = word_tokenizer.texts_to_sequences(X_test)"
   ]
  },
  {
   "cell_type": "code",
   "execution_count": 42,
   "metadata": {},
   "outputs": [
    {
     "data": {
      "text/plain": [
       "1705"
      ]
     },
     "execution_count": 42,
     "metadata": {},
     "output_type": "execute_result"
    }
   ],
   "source": [
    "# Adding 1 to store dimensions for words for which no pretrained word embeddings exist\n",
    "\n",
    "vocab_length = len(word_tokenizer.word_index) + 1\n",
    "\n",
    "vocab_length"
   ]
  },
  {
   "cell_type": "code",
   "execution_count": 43,
   "metadata": {},
   "outputs": [],
   "source": [
    "# Padding all reviews to fixed length 100\n",
    "\n",
    "maxlen = 100\n",
    "\n",
    "X_train = pad_sequences(X_train, padding='post', maxlen=maxlen)\n",
    "X_test = pad_sequences(X_test, padding='post', maxlen=maxlen)"
   ]
  },
  {
   "cell_type": "code",
   "execution_count": 49,
   "metadata": {},
   "outputs": [],
   "source": [
    "# Load GloVe word embeddings and create an Embeddings Dictionary\n",
    "\n",
    "from numpy import asarray\n",
    "from numpy import zeros\n",
    "\n",
    "embeddings_dictionary = dict()\n",
    "glove_file = open('../dataset/glove.6B.100d.txt', encoding=\"utf8\")\n",
    "\n",
    "for line in glove_file:\n",
    "    records = line.split()\n",
    "    word = records[0]\n",
    "    vector_dimensions = asarray(records[1:], dtype='float32')\n",
    "    embeddings_dictionary [word] = vector_dimensions\n",
    "glove_file.close()"
   ]
  },
  {
   "cell_type": "code",
   "execution_count": 50,
   "metadata": {},
   "outputs": [],
   "source": [
    "# Create Embedding Matrix having 100 columns\n",
    "# Containing 100-dimensional GloVe word embeddings for all words in our corpus.\n",
    "\n",
    "embedding_matrix = zeros((vocab_length, 100))\n",
    "for word, index in word_tokenizer.word_index.items():\n",
    "    embedding_vector = embeddings_dictionary.get(word)\n",
    "    if embedding_vector is not None:\n",
    "        embedding_matrix[index] = embedding_vector"
   ]
  },
  {
   "cell_type": "code",
   "execution_count": 51,
   "metadata": {},
   "outputs": [
    {
     "data": {
      "text/plain": [
       "(1705, 100)"
      ]
     },
     "execution_count": 51,
     "metadata": {},
     "output_type": "execute_result"
    }
   ],
   "source": [
    "embedding_matrix.shape"
   ]
  },
  {
   "cell_type": "code",
   "execution_count": 52,
   "metadata": {},
   "outputs": [
    {
     "data": {
      "text/plain": [
       "array([[ 0.        ,  0.        ,  0.        , ...,  0.        ,\n",
       "         0.        ,  0.        ],\n",
       "       [ 0.05869   ,  0.40272999,  0.38633999, ..., -0.35973999,\n",
       "         0.43718001,  0.10121   ],\n",
       "       [ 0.        ,  0.        ,  0.        , ...,  0.        ,\n",
       "         0.        ,  0.        ],\n",
       "       ...,\n",
       "       [-0.055423  , -0.35898   ,  0.14016999, ...,  0.24855   ,\n",
       "         0.58578998,  1.05110002],\n",
       "       [ 0.58832002, -0.098767  ,  0.17133   , ...,  0.23624   ,\n",
       "        -0.76871002, -0.41764   ],\n",
       "       [ 0.        ,  0.        ,  0.        , ...,  0.        ,\n",
       "         0.        ,  0.        ]])"
      ]
     },
     "execution_count": 52,
     "metadata": {},
     "output_type": "execute_result"
    }
   ],
   "source": [
    "embedding_matrix"
   ]
  }
 ],
 "metadata": {
  "kernelspec": {
   "display_name": "Python 3",
   "language": "python",
   "name": "python3"
  },
  "language_info": {
   "codemirror_mode": {
    "name": "ipython",
    "version": 3
   },
   "file_extension": ".py",
   "mimetype": "text/x-python",
   "name": "python",
   "nbconvert_exporter": "python",
   "pygments_lexer": "ipython3",
   "version": "3.11.9"
  }
 },
 "nbformat": 4,
 "nbformat_minor": 2
}
